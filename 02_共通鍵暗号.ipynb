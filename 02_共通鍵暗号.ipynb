{
 "cells": [
  {
   "cell_type": "markdown",
   "metadata": {},
   "source": [
    "# 現代暗号\n",
    "\n",
    "## 現代暗号の発展\n",
    "\n",
    "- コンピュータ登場以前は、暗号の利用者も軍隊や国家機関などの一部組織に限定されていた\n",
    "- 現代になるとコンピュータとインターネットが急速に発達し、デジタルデータのやり取りが即座に行われるようになった\n",
    "    - 商業目的で民間企業や個人が暗号を利用するようになった\n",
    "    - 結果として、暗号のアルゴリズムを公開する必要が出てきた\n",
    "\n",
    "***\n",
    "\n",
    "## 共通鍵暗号\n",
    "\n",
    "- **共通鍵暗号**\n",
    "    - 暗号化と復号に同一の秘密鍵を用いる暗号\n",
    "    - 共通鍵暗号における秘密鍵を特に共通鍵と呼ぶ場合もある\n",
    "    - 一般に高速に暗号化・復号できるように設計されているため、大サイズの平文の暗号化に向いている"
   ]
  },
  {
   "cell_type": "code",
   "execution_count": null,
   "metadata": {},
   "outputs": [],
   "source": []
  }
 ],
 "metadata": {
  "kernelspec": {
   "display_name": "Julia 1.1.1",
   "language": "julia",
   "name": "julia-1.1"
  },
  "language_info": {
   "file_extension": ".jl",
   "mimetype": "application/julia",
   "name": "julia",
   "version": "1.1.1"
  }
 },
 "nbformat": 4,
 "nbformat_minor": 2
}
