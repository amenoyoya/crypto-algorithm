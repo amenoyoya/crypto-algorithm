{
 "cells": [
  {
   "cell_type": "markdown",
   "metadata": {},
   "source": [
    "# 古典暗号\n",
    "\n",
    "## 古典暗号とは\n",
    "\n",
    "- 古典暗号と現代暗号を区別する明確な定義はない\n",
    "- ここではコンピュータを使うかどうかで区別する\n",
    "    1. 古典暗号:\n",
    "        - コンピュータ登場以前の暗号\n",
    "        - 鍵の総数が少なくアルゴリズムが単純なため、アルゴリズムを非公開にして使用しないとすぐに解読されてしまう\n",
    "    2. 現代暗号:\n",
    "        - コンピュータ登場以降の暗号\n",
    "        - 複雑なアルゴリズムを採用することにより、アルゴリズムが公開されていても解読されにくい\n",
    "\n",
    "\n",
    "## 平文空間と暗号文空間\n",
    "\n",
    "- 平文空間:\n",
    "    - 平文として使用される文字の集まり（暗号化される前のテキスト）\n",
    "- 暗号文空間:\n",
    "    - 暗号文として使用される文字の集まり\n",
    "    - 平文空間と暗号文空間は同一空間に存在していることもある\n",
    "        - 例: アルファベットから成る平文を、でたらめなアルファベットの羅列に暗号化した場合など\n",
    "            - 同じ文字の集まりを使っているため、同一空間に属していると言える\n",
    "        - 一方、アルファベットから成る平文を、全く別の絵文字や記号に変換した場合、平文空間と暗号文空間は異なると言える\n",
    "\n",
    "### 古典暗号における平文空間と暗号文空間\n",
    "- 古典暗号において、平文は読める文字であることが大半\n",
    "- 古典暗号: 平文空間から暗号文空間への写像\n",
    "    - 古典暗号 = `f(平文空間の元) -> 暗号文空間の元` の変換を行う関数f\n",
    "    - 例（平文空間＝暗号文空間の場合）:\n",
    "        - `f([\"a\", \"b\", ..., \"z\"]) -> [\"c\", \"d\", ..., \"b\"]`\n",
    "    - 例（平文空間≠暗号空間の場合）:\n",
    "        - `f([\"a\", \"b\", ..., \"z\"]) -> [\"!\", \"#\", ..., \"_\"]`\n",
    "\n",
    "- ※写像とは\n",
    "    - 二つの集合が与えられたときに、一方の集合の各元に対し、他方の集合のただひとつの元を指定して結びつける対応のこと\n",
    "        - ※元とは: 集合を構成する要素のこと\n",
    "\n",
    "### 現代暗号における平文空間と暗号文空間\n",
    "- 現代暗号において、平文はコンピュータにとって扱いやすい数字（符号）である\n",
    "    - 数字の符号は、現代暗号のアルゴリズムで扱うにも都合が良い\n",
    "- 読める文字だけでなく、空白や句読点などの記号も符号化の対象とすることであらゆる文章を平文空間に持ち込むことができる\n",
    "- 現代暗号: 文字／記号の集合を符号化した平文空間から暗号文空間への写像\n",
    "    - 符号化: `f(文章[文字／記号の集合]) -> 平文空間[符号の集合]`\n",
    "    - 暗号化: `f(平文空間[符号の集合]) -> 暗号文空間[符号の集合]`"
   ]
  },
  {
   "cell_type": "markdown",
   "metadata": {},
   "source": [
    "## シーザー暗号\n",
    "\n",
    "- 暗号化アルゴリズム:\n",
    "    - 平文のアルファベットをそれぞれ3文字ずらす（アルファベットの最後の3文字は先頭に循環させる）\n",
    "        1. KeyGen（鍵生成アルゴリズム）\n",
    "            - `KeyGen(起動) -> n = 3（固定）`\n",
    "        2. Enc（暗号化アルゴリズム）\n",
    "            - `Enc(平文, 鍵) -> 各文字を右に(鍵)文字ずらした暗号文を生成`\n",
    "        3. Dec（復号アルゴリズム）\n",
    "            - `Dec(暗号文, 鍵) -> 各文字を左に(鍵)文字ずらした平文を生成`\n",
    "\n",
    "#### シーザー暗号対応表\n",
    " a | b | c | d | e | f | g | h | i | j | k | l | m | n | o | p | q | r | s | t | u | v | w | x | y | z\n",
    ":--|:--|:--|:--|:--|:--|:--|:--|:--|:--|:--|:--|:--|:--|:--|:--|:--|:--|:--|:--|:--|:--|:--|:--|:--|:--|\n",
    " d | e | f | g | h | i | j | k | l | m | n | o | p | q | r | s | t | u | v | w | x | y | z | a | b | c\n",
    " "
   ]
  },
  {
   "cell_type": "code",
   "execution_count": 1,
   "metadata": {},
   "outputs": [
    {
     "data": {
      "text/plain": [
       "Main.Caesar"
      ]
     },
     "execution_count": 1,
     "metadata": {},
     "output_type": "execute_result"
    }
   ],
   "source": [
    "# シーザー暗号\n",
    "module Caesar\n",
    "    ## 鍵生成: n = 3\n",
    "    KeyGen() = (n = 3)\n",
    "\n",
    "    ## 暗号化: 暗号文[i] = (平文[i] + n) % 26\n",
    "    ### アルファベットの列を循環させるために、文字符号をn文字右にずらしたあと 26 で割った余りを求める\n",
    "    Enc(text::AbstractString, n::Int) = [c = Char((Int(c) + n) % 26) for c in text]\n",
    "\n",
    "    ## 復号: 平文[i] = (暗号文[i] + 26 - n) % 26\n",
    "    ### アルファベットの列を循環させるために、文字符号をn文字左にずらしたあと 26 で割った余りを求める\n",
    "    Dec(text::AbstractString, n::Int) = [c = Char((Int(c) + 26 - n) % 26) for c in text]\n",
    "end"
   ]
  },
  {
   "cell_type": "code",
   "execution_count": 2,
   "metadata": {},
   "outputs": [
    {
     "data": {
      "text/plain": [
       "3-element Array{Char,1}:\n",
       " '\\x03'\n",
       " '\\x04'\n",
       " '\\x05'"
      ]
     },
     "execution_count": 2,
     "metadata": {},
     "output_type": "execute_result"
    }
   ],
   "source": [
    "# シーザー暗号: 動作確認\n",
    "Caesar.Enc(\"\\0\\1\\2\", Caesar.KeyGen())"
   ]
  },
  {
   "cell_type": "code",
   "execution_count": 3,
   "metadata": {},
   "outputs": [
    {
     "data": {
      "text/plain": [
       "decode (generic function with 1 method)"
      ]
     },
     "execution_count": 3,
     "metadata": {},
     "output_type": "execute_result"
    }
   ],
   "source": [
    "# 今のままではアルファベットをそのまま使えないため、符号化を行うアルゴリズムを定義する\n",
    "\n",
    "## アルファベット[\"a\", \"b\", ...\"z\"] -> 符号[0, 1, ..., 26]\n",
    "### アスキーコード表より 'a' = 97, ...'z' = 122\n",
    "### -> ret[i] = text[i] - 97\n",
    "encode(text::AbstractString)::Array{Char,1} = [Char(Int(c) - 97) for c in text]\n",
    "\n",
    "## 符号[0, 1, ..., 26] -> アルファベット[\"a\", \"b\", ..., \"z\"]\n",
    "### ret[i] = signs[i] + 97\n",
    "decode(signs::Array{Char,1})::AbstractString = String([Char(Int(c) + 97) for c in signs])"
   ]
  },
  {
   "cell_type": "code",
   "execution_count": 4,
   "metadata": {},
   "outputs": [
    {
     "data": {
      "text/plain": [
       "10-element Array{Char,1}:\n",
       " '\\a'  \n",
       " '\\x04'\n",
       " '\\v'  \n",
       " '\\v'  \n",
       " '\\x0e'\n",
       " '\\x16'\n",
       " '\\x0e'\n",
       " '\\x11'\n",
       " '\\v'  \n",
       " '\\x03'"
      ]
     },
     "execution_count": 4,
     "metadata": {},
     "output_type": "execute_result"
    }
   ],
   "source": [
    "# 動作確認\n",
    "encode(\"helloworld\")"
   ]
  },
  {
   "cell_type": "code",
   "execution_count": 5,
   "metadata": {},
   "outputs": [
    {
     "data": {
      "text/plain": [
       "\"qia\""
      ]
     },
     "execution_count": 5,
     "metadata": {},
     "output_type": "execute_result"
    }
   ],
   "source": [
    "decode(['\\20', '\\10', '\\0'])"
   ]
  },
  {
   "cell_type": "code",
   "execution_count": 6,
   "metadata": {},
   "outputs": [
    {
     "name": "stderr",
     "output_type": "stream",
     "text": [
      "WARNING: replacing module Caesar.\n"
     ]
    },
    {
     "data": {
      "text/plain": [
       "Main.Caesar"
      ]
     },
     "execution_count": 6,
     "metadata": {},
     "output_type": "execute_result"
    }
   ],
   "source": [
    "# 符号化を含めてシーザー暗号を実装\n",
    "module Caesar\n",
    "    import ..encode, ..decode\n",
    "\n",
    "    ## 鍵生成: n = 3\n",
    "    KeyGen() = (n = 3)\n",
    "\n",
    "    ## 暗号化: 暗号文[i] = (平文[i] + n) % 26\n",
    "    ### アルファベットの列を循環させるために、文字符号をn文字右にずらしたあと 26 で割った余りを求める\n",
    "    Enc(text::AbstractString, n::Int)::AbstractString = String(decode([c = Char((Int(c) + n) % 26) for c in encode(text)]))\n",
    "\n",
    "    ## 復号: 平文[i] = (暗号文[i] + 26 - n) % 26\n",
    "    ### アルファベットの列を循環させるために、文字符号をn文字左にずらしたあと 26 で割った余りを求める\n",
    "    Dec(text::AbstractString, n::Int)::AbstractString = String(decode([c = Char((Int(c) + 26 - n) % 26) for c in encode(text)]))\n",
    "end"
   ]
  },
  {
   "cell_type": "code",
   "execution_count": 7,
   "metadata": {},
   "outputs": [
    {
     "name": "stdout",
     "output_type": "stream",
     "text": [
      "khoorzruog\n",
      "helloworld\n"
     ]
    }
   ],
   "source": [
    "# 動作確認\n",
    "enc = Caesar.Enc(\"helloworld\", Caesar.KeyGen())\n",
    "println(enc) # 暗号文\n",
    "\n",
    "dec = Caesar.Dec(enc, Caesar.KeyGen())\n",
    "println(dec) # 平文"
   ]
  },
  {
   "cell_type": "markdown",
   "metadata": {},
   "source": [
    "### シーザー暗号の現代暗号対応\n",
    "- 上記のプログラムを見てもわかるように、古典暗号をコンピュータ上で再現しようとすると無駄な処理が増える\n",
    "- やはりコンピュータで計算させるのであれば、平文空間／暗号化文空間を符号の集合で表現するのが最も効率的\n",
    "    - さらに言えば、記号類も符号化することにより、より自然な文章の平文を扱うこともできる\n",
    "\n",
    "#### シーザー暗号のコンピュータアルゴリズム\n",
    "- 符号化: `f(平文::AbstractString) -> 平文空間::Array{Int,1}`\n",
    "    - 符号の集合を整数の1次元配列で表現する\n",
    "- 暗号化: `f(平文空間::Array{Int,1}) -> 暗号文空間::Array{Int,1}`\n",
    "    - KeyGen: `f(起動) -> n = 3`\n",
    "    - Enc: `f(平文空間::Array{Int,1}, n::Int) -> 元 += n`\n",
    "    - Dec: `f(暗号文空間::Array{Int,1}, n::Int) -> 元 -= n`\n",
    "- 文字列化: `f(平文空間::Array{Int,1}) -> 平文::AbstractString`\n",
    "    - 符号の集合を文字列に戻す"
   ]
  },
  {
   "cell_type": "code",
   "execution_count": 8,
   "metadata": {},
   "outputs": [
    {
     "data": {
      "text/plain": [
       "decode (generic function with 2 methods)"
      ]
     },
     "execution_count": 8,
     "metadata": {},
     "output_type": "execute_result"
    }
   ],
   "source": [
    "# シーザー暗号（現代暗号最適化版）\n",
    "module NewCaesar\n",
    "    # 鍵生成: f() -> n = 3\n",
    "    KeyGen()::Int = 3\n",
    "    \n",
    "    # 暗号化: f(平文空間, 鍵) -> 元 += 鍵\n",
    "    ## Julia の `.` 演算子は、関数を配列の各要素に対して適用する\n",
    "    Enc(signs::Array{Int,1}, n::Int)::Array{Int,1} = signs .+= n\n",
    "\n",
    "    # 復号: f(暗号文空間, 鍵) -> 元 -= 鍵\n",
    "    Dec(signs::Array{Int,1}, n::Int)::Array{Int,1} = signs .-= n\n",
    "end\n",
    "\n",
    "# 符号化: f(平文::AbstractString) -> 符号空間::Array{Int,1}\n",
    "encode(text::AbstractString)::Array{Int,1} = [Int(c) for c in text]\n",
    "\n",
    "# 文字列化: f(符号空間::Array{Int,1}) -> 平文::AbstractString\n",
    "decode(signs::Array{Int,1})::AbstractString = String([Char(c) for c in signs])"
   ]
  },
  {
   "cell_type": "code",
   "execution_count": 9,
   "metadata": {},
   "outputs": [
    {
     "name": "stdout",
     "output_type": "stream",
     "text": [
      "[75, 104, 111, 111, 114, 47, 35, 90, 114, 117, 111, 103, 36]\n",
      "Hello, World!\n"
     ]
    }
   ],
   "source": [
    "# 動作確認\n",
    "enc = NewCaesar.Enc(encode(\"Hello, World!\"), NewCaesar.KeyGen())\n",
    "println(enc) # 暗号文\n",
    "\n",
    "## |> パイプ演算子: 直前の式の結果を直後の関数の第1引数に渡す\n",
    "### -> decode(NewCaesar.Dec(enc, NewCaesar.KeyGen()))\n",
    "dec = NewCaesar.Dec(enc, NewCaesar.KeyGen()) |> decode\n",
    "println(dec) # 平文"
   ]
  },
  {
   "cell_type": "markdown",
   "metadata": {},
   "source": [
    "## コード\n",
    "\n",
    "- 仲間内でしか通用しない合言葉を拡張したもの\n",
    "    - 合言葉の対応表をコードブックと呼ぶ\n",
    "- コードブックを作成するのに膨大な時間がかかる\n",
    "- コードブックは丸暗記に向いていないため、配送・携帯・管理に問題が生じる\n",
    "\n",
    "### コードのアルゴリズム\n",
    "- コードブックを参照し、特定のキーワードに一致した部分を合言葉に置換する\n",
    "    - 鍵生成: `KeyGen() -> コードブック::Array{Tuple{String,String},1}`\n",
    "        - コードブック: 2つの文字列（キーワード, 合言葉）のタプルを1次元配列で表現\n",
    "    - 暗号化: `Enc(平文空間::String, コードブック) -> 暗号文空間::String`\n",
    "        - 適用: `replace(平文空間::String, キーワード::String, 合言葉::String)`\n",
    "    - 復号: `Dec(暗号文空間::String, コードブック) -> 平文空間::String`\n",
    "        - 適用: `replace(暗号文空間::String, 合言葉::String, キーワード::String)`"
   ]
  },
  {
   "cell_type": "code",
   "execution_count": 10,
   "metadata": {},
   "outputs": [
    {
     "data": {
      "text/plain": [
       "Main.Code"
      ]
     },
     "execution_count": 10,
     "metadata": {},
     "output_type": "execute_result"
    }
   ],
   "source": [
    "# コード\n",
    "module Code\n",
    "\n",
    "## 鍵生成\n",
    "KeyGen()::Array{Tuple{AbstractString,AbstractString},1} = [\n",
    "    (\"apple\", \"バナナ\"), (\"Hello\", \"byebye\"), (\"world\", \"りんご\"),\n",
    "    (\"バナナ\", \"milky\"), (\"I'm\", \"!?!?@^^;\"), (\", \", \"hogeほげ!\"),\n",
    "    (\"1988\", \"_8891_@\"), (\"Boy\", \"ジュリア\"), (\"Girl\", \"womanma\"),\n",
    "]\n",
    "\n",
    "## 暗号化\n",
    "Enc(\n",
    "    text::AbstractString,\n",
    "    book::Array{Tuple{AbstractString,AbstractString},1}\n",
    ")::AbstractString = begin\n",
    "    for words in book\n",
    "        text = replace(text, words[1] => words[2])\n",
    "    end\n",
    "    text\n",
    "end\n",
    "\n",
    "## 復号\n",
    "Dec(\n",
    "    text::AbstractString,\n",
    "    book::Array{Tuple{AbstractString,AbstractString},1}\n",
    ")::AbstractString = begin\n",
    "    for words in book\n",
    "        text = replace(text, words[2] => words[1])\n",
    "    end\n",
    "    text\n",
    "end\n",
    "\n",
    "end"
   ]
  },
  {
   "cell_type": "code",
   "execution_count": 11,
   "metadata": {
    "scrolled": true
   },
   "outputs": [
    {
     "name": "stdout",
     "output_type": "stream",
     "text": [
      "byebyehogeほげ!りんご!\n",
      "!?!?@^^; milkymilky at _8891_@.\n",
      "ジュリアs and womanmas be ambisious!\n",
      "\n",
      "Hello, world!\n",
      "I'm バナナバナナ at 1988.\n",
      "Boys and Girls be ambisious!\n",
      "\n"
     ]
    }
   ],
   "source": [
    "# 動作確認\n",
    "text = \"\"\"\n",
    "Hello, world!\n",
    "I'm appleバナナ at 1988.\n",
    "Boys and Girls be ambisious!\n",
    "\"\"\"\n",
    "enc = Code.Enc(text, Code.KeyGen())\n",
    "println(enc) # 暗号文\n",
    "\n",
    "dec = Code.Dec(enc, Code.KeyGen())\n",
    "println(dec) # 平文"
   ]
  },
  {
   "cell_type": "code",
   "execution_count": null,
   "metadata": {},
   "outputs": [],
   "source": []
  }
 ],
 "metadata": {
  "kernelspec": {
   "display_name": "Julia 1.1.1",
   "language": "julia",
   "name": "julia-1.1"
  },
  "language_info": {
   "file_extension": ".jl",
   "mimetype": "application/julia",
   "name": "julia",
   "version": "1.1.1"
  }
 },
 "nbformat": 4,
 "nbformat_minor": 2
}
