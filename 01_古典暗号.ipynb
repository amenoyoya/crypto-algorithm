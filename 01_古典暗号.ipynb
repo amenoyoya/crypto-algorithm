{
 "cells": [
  {
   "cell_type": "markdown",
   "metadata": {},
   "source": [
    "# 古典暗号\n",
    "\n",
    "## 古典暗号とは\n",
    "\n",
    "- 古典暗号と現代暗号を区別する明確な定義はない\n",
    "- ここではコンピュータを使うかどうかで区別する\n",
    "    1. 古典暗号:\n",
    "        - コンピュータ登場以前の暗号\n",
    "        - 鍵の総数が少なくアルゴリズムが単純なため、アルゴリズムを非公開にして使用しないとすぐに解読されてしまう\n",
    "    2. 現代暗号:\n",
    "        - コンピュータ登場以降の暗号\n",
    "        - 複雑なアルゴリズムを採用することにより、アルゴリズムが公開されていても解読されにくい\n",
    "\n",
    "\n",
    "## 平文空間と暗号文空間\n",
    "\n",
    "- 平文空間:\n",
    "    - 平文として使用される文字の集まり（暗号化される前のテキスト）\n",
    "- 暗号文空間:\n",
    "    - 暗号文として使用される文字の集まり\n",
    "    - 平文空間と暗号文空間は同一空間に存在していることもある\n",
    "        - 例: アルファベットから成る平文を、でたらめなアルファベットの羅列に暗号化した場合など\n",
    "            - 同じ文字の集まりを使っているため、同一空間に属していると言える\n",
    "        - 一方、アルファベットから成る平文を、全く別の絵文字や記号に変換した場合、平文空間と暗号文空間は異なると言える\n",
    "\n",
    "### 古典暗号における平文空間と暗号文空間\n",
    "- 古典暗号において、平文は読める文字であることが大半\n",
    "- 古典暗号: 平文空間から暗号文空間への写像\n",
    "    - 古典暗号 = `f(平文空間の元) -> 暗号文空間の元` の変換を行う関数f\n",
    "    - 例（平文空間＝暗号文空間の場合）:\n",
    "        - `f([\"a\", \"b\", ..., \"z\"]) -> [\"c\", \"d\", ..., \"b\"]`\n",
    "    - 例（平文空間≠暗号空間の場合）:\n",
    "        - `f([\"a\", \"b\", ..., \"z\"]) -> [\"!\", \"#\", ..., \"_\"]`\n",
    "\n",
    "- ※写像とは\n",
    "    - 二つの集合が与えられたときに、一方の集合の各元に対し、他方の集合のただひとつの元を指定して結びつける対応のこと\n",
    "        - ※元とは: 集合を構成する要素のこと\n",
    "\n",
    "### 現代暗号における平文空間と暗号文空間\n",
    "- 現代暗号において、平文はコンピュータにとって扱いやすい数字（符号）である\n",
    "    - 数字の符号は、現代暗号のアルゴリズムで扱うにも都合が良い\n",
    "- 読める文字だけでなく、空白や句読点などの記号も符号化の対象とすることであらゆる文章を平文空間に持ち込むことができる\n",
    "- 現代暗号: 文字／記号の集合を符号化した平文空間から暗号文空間への写像\n",
    "    - 符号化: `f(文章[文字／記号の集合]) -> 平文空間[符号の集合]`\n",
    "    - 暗号化: `f(平文空間[符号の集合]) -> 暗号文空間[符号の集合]`"
   ]
  },
  {
   "cell_type": "markdown",
   "metadata": {},
   "source": [
    "## シーザー暗号\n",
    "\n",
    "- 暗号化アルゴリズム:\n",
    "    - 平文のアルファベットをそれぞれ3文字ずらす（アルファベットの最後の3文字は先頭に循環させる）\n",
    "        1. KeyGen（鍵生成アルゴリズム）\n",
    "            - `KeyGen(起動) -> n = 3（固定）`\n",
    "        2. Enc（暗号化アルゴリズム）\n",
    "            - `Enc(平文, 鍵) -> 各文字を右に(鍵)文字ずらした暗号文を生成`\n",
    "        3. Dec（復号アルゴリズム）\n",
    "            - `Dec(暗号文, 鍵) -> 各文字を左に(鍵)文字ずらした平文を生成`\n",
    "\n",
    "#### シーザー暗号対応表\n",
    " a | b | c | d | e | f | g | h | i | j | k | l | m | n | o | p | q | r | s | t | u | v | w | x | y | z\n",
    ":--|:--|:--|:--|:--|:--|:--|:--|:--|:--|:--|:--|:--|:--|:--|:--|:--|:--|:--|:--|:--|:--|:--|:--|:--|:--|\n",
    " d | e | f | g | h | i | j | k | l | m | n | o | p | q | r | s | t | u | v | w | x | y | z | a | b | c\n",
    " "
   ]
  },
  {
   "cell_type": "code",
   "execution_count": 1,
   "metadata": {},
   "outputs": [
    {
     "data": {
      "text/plain": [
       "Main.Caesar"
      ]
     },
     "execution_count": 1,
     "metadata": {},
     "output_type": "execute_result"
    }
   ],
   "source": [
    "# シーザー暗号\n",
    "module Caesar\n",
    "    ## 鍵生成: n = 3\n",
    "    KeyGen() = (n = 3)\n",
    "\n",
    "    ## 暗号化: 暗号文[i] = (平文[i] + n) % 26\n",
    "    ### アルファベットの列を循環させるために、文字符号をn文字右にずらしたあと 26 で割った余りを求める\n",
    "    Enc(text::AbstractString, n::Int) = [c = Char((Int(c) + n) % 26) for c in text]\n",
    "\n",
    "    ## 復号: 平文[i] = (暗号文[i] + 26 - n) % 26\n",
    "    ### アルファベットの列を循環させるために、文字符号をn文字左にずらしたあと 26 で割った余りを求める\n",
    "    Dec(text::AbstractString, n::Int) = [c = Char((Int(c) + 26 - n) % 26) for c in text]\n",
    "end"
   ]
  },
  {
   "cell_type": "code",
   "execution_count": 2,
   "metadata": {},
   "outputs": [
    {
     "data": {
      "text/plain": [
       "3-element Array{Char,1}:\n",
       " '\\x03'\n",
       " '\\x04'\n",
       " '\\x05'"
      ]
     },
     "execution_count": 2,
     "metadata": {},
     "output_type": "execute_result"
    }
   ],
   "source": [
    "# シーザー暗号: 動作確認\n",
    "Caesar.Enc(\"\\0\\1\\2\", Caesar.KeyGen())"
   ]
  },
  {
   "cell_type": "code",
   "execution_count": 3,
   "metadata": {},
   "outputs": [
    {
     "data": {
      "text/plain": [
       "decode (generic function with 1 method)"
      ]
     },
     "execution_count": 3,
     "metadata": {},
     "output_type": "execute_result"
    }
   ],
   "source": [
    "# 今のままではアルファベットをそのまま使えないため、符号化を行うアルゴリズムを定義する\n",
    "\n",
    "## アルファベット[\"a\", \"b\", ...\"z\"] -> 符号[0, 1, ..., 26]\n",
    "### アスキーコード表より 'a' = 97, ...'z' = 122\n",
    "### -> ret[i] = text[i] - 97\n",
    "encode(text::AbstractString)::Array{Char,1} = [Char(Int(c) - 97) for c in text]\n",
    "\n",
    "## 符号[0, 1, ..., 26] -> アルファベット[\"a\", \"b\", ..., \"z\"]\n",
    "### ret[i] = signs[i] + 97\n",
    "decode(signs::Array{Char,1})::AbstractString = String([Char(Int(c) + 97) for c in signs])"
   ]
  },
  {
   "cell_type": "code",
   "execution_count": 4,
   "metadata": {},
   "outputs": [
    {
     "data": {
      "text/plain": [
       "10-element Array{Char,1}:\n",
       " '\\a'  \n",
       " '\\x04'\n",
       " '\\v'  \n",
       " '\\v'  \n",
       " '\\x0e'\n",
       " '\\x16'\n",
       " '\\x0e'\n",
       " '\\x11'\n",
       " '\\v'  \n",
       " '\\x03'"
      ]
     },
     "execution_count": 4,
     "metadata": {},
     "output_type": "execute_result"
    }
   ],
   "source": [
    "# 動作確認\n",
    "encode(\"helloworld\")"
   ]
  },
  {
   "cell_type": "code",
   "execution_count": 5,
   "metadata": {},
   "outputs": [
    {
     "data": {
      "text/plain": [
       "\"qia\""
      ]
     },
     "execution_count": 5,
     "metadata": {},
     "output_type": "execute_result"
    }
   ],
   "source": [
    "decode(['\\20', '\\10', '\\0'])"
   ]
  },
  {
   "cell_type": "code",
   "execution_count": 6,
   "metadata": {},
   "outputs": [
    {
     "name": "stderr",
     "output_type": "stream",
     "text": [
      "WARNING: replacing module Caesar.\n"
     ]
    },
    {
     "data": {
      "text/plain": [
       "Main.Caesar"
      ]
     },
     "execution_count": 6,
     "metadata": {},
     "output_type": "execute_result"
    }
   ],
   "source": [
    "# 符号化を含めてシーザー暗号を実装\n",
    "module Caesar\n",
    "    import ..encode, ..decode\n",
    "\n",
    "    ## 鍵生成: n = 3\n",
    "    KeyGen() = (n = 3)\n",
    "\n",
    "    ## 暗号化: 暗号文[i] = (平文[i] + n) % 26\n",
    "    ### アルファベットの列を循環させるために、文字符号をn文字右にずらしたあと 26 で割った余りを求める\n",
    "    Enc(text::AbstractString, n::Int)::AbstractString = String(decode([c = Char((Int(c) + n) % 26) for c in encode(text)]))\n",
    "\n",
    "    ## 復号: 平文[i] = (暗号文[i] + 26 - n) % 26\n",
    "    ### アルファベットの列を循環させるために、文字符号をn文字左にずらしたあと 26 で割った余りを求める\n",
    "    Dec(text::AbstractString, n::Int)::AbstractString = String(decode([c = Char((Int(c) + 26 - n) % 26) for c in encode(text)]))\n",
    "end"
   ]
  },
  {
   "cell_type": "code",
   "execution_count": 7,
   "metadata": {},
   "outputs": [
    {
     "name": "stdout",
     "output_type": "stream",
     "text": [
      "khoorzruog\n",
      "helloworld\n"
     ]
    }
   ],
   "source": [
    "# 動作確認\n",
    "enc = Caesar.Enc(\"helloworld\", Caesar.KeyGen())\n",
    "println(enc) # 暗号文\n",
    "\n",
    "dec = Caesar.Dec(enc, Caesar.KeyGen())\n",
    "println(dec) # 平文"
   ]
  },
  {
   "cell_type": "markdown",
   "metadata": {},
   "source": [
    "### シーザー暗号の現代暗号対応\n",
    "- 上記のプログラムを見てもわかるように、古典暗号をコンピュータ上で再現しようとすると無駄な処理が増える\n",
    "- やはりコンピュータで計算させるのであれば、平文空間／暗号化文空間を符号の集合で表現するのが最も効率的\n",
    "    - さらに言えば、記号類も符号化することにより、より自然な文章の平文を扱うこともできる\n",
    "\n",
    "#### シーザー暗号のコンピュータアルゴリズム\n",
    "- 符号化: `f(平文::AbstractString) -> 平文空間::Array{Int,1}`\n",
    "    - 符号の集合を整数の1次元配列で表現する\n",
    "- 暗号化: `f(平文空間::Array{Int,1}) -> 暗号文空間::Array{Int,1}`\n",
    "    - KeyGen: `f(起動) -> n = 3`\n",
    "    - Enc: `f(平文空間::Array{Int,1}, n::Int) -> 元 += n`\n",
    "    - Dec: `f(暗号文空間::Array{Int,1}, n::Int) -> 元 -= n`\n",
    "- 文字列化: `f(平文空間::Array{Int,1}) -> 平文::AbstractString`\n",
    "    - 符号の集合を文字列に戻す"
   ]
  },
  {
   "cell_type": "code",
   "execution_count": 8,
   "metadata": {},
   "outputs": [
    {
     "data": {
      "text/plain": [
       "decode (generic function with 2 methods)"
      ]
     },
     "execution_count": 8,
     "metadata": {},
     "output_type": "execute_result"
    }
   ],
   "source": [
    "# シーザー暗号（現代暗号最適化版）\n",
    "module NewCaesar\n",
    "    # 鍵生成: f() -> n = 3\n",
    "    KeyGen()::Int = 3\n",
    "    \n",
    "    # 暗号化: f(平文空間, 鍵) -> 元 += 鍵\n",
    "    ## Julia の `.` 演算子は、関数を配列の各要素に対して適用する\n",
    "    Enc(signs::Array{Int,1}, n::Int)::Array{Int,1} = signs .+= n\n",
    "\n",
    "    # 復号: f(暗号文空間, 鍵) -> 元 -= 鍵\n",
    "    Dec(signs::Array{Int,1}, n::Int)::Array{Int,1} = signs .-= n\n",
    "end\n",
    "\n",
    "# 符号化: f(平文::AbstractString) -> 符号空間::Array{Int,1}\n",
    "encode(text::AbstractString)::Array{Int,1} = [Int(c) for c in text]\n",
    "\n",
    "# 文字列化: f(符号空間::Array{Int,1}) -> 平文::AbstractString\n",
    "decode(signs::Array{Int,1})::AbstractString = String([Char(c) for c in signs])"
   ]
  },
  {
   "cell_type": "code",
   "execution_count": 9,
   "metadata": {},
   "outputs": [
    {
     "name": "stdout",
     "output_type": "stream",
     "text": [
      "[75, 104, 111, 111, 114, 47, 35, 90, 114, 117, 111, 103, 36]\n",
      "Hello, World!\n"
     ]
    }
   ],
   "source": [
    "# 動作確認\n",
    "enc = NewCaesar.Enc(encode(\"Hello, World!\"), NewCaesar.KeyGen())\n",
    "println(enc) # 暗号文\n",
    "\n",
    "## |> パイプ演算子: 直前の式の結果を直後の関数の第1引数に渡す\n",
    "### -> decode(NewCaesar.Dec(enc, NewCaesar.KeyGen()))\n",
    "dec = NewCaesar.Dec(enc, NewCaesar.KeyGen()) |> decode\n",
    "println(dec) # 平文"
   ]
  },
  {
   "cell_type": "markdown",
   "metadata": {},
   "source": [
    "## シフト暗号\n",
    "\n",
    "- シーザー暗号は文字をずらす値を3に固定していたが、ずらす値を任意とする方法をシフト暗号と呼ぶ\n",
    "- ずらす値は鍵に相当するため、送受信者以外には秘密にする必要がある"
   ]
  },
  {
   "cell_type": "code",
   "execution_count": 10,
   "metadata": {},
   "outputs": [
    {
     "name": "stdout",
     "output_type": "stream",
     "text": [
      "[73, 102, 109, 109, 112, 45, 33, 88, 112, 115, 109, 101, 34]\n",
      "Hello, World!\n"
     ]
    }
   ],
   "source": [
    "# シフト暗号\n",
    "module Shift\n",
    "    # 鍵生成: f() -> n = 1〜10の乱数\n",
    "    KeyGen()::Int = rand(1:10)\n",
    "    \n",
    "    # 暗号化: f(平文空間::Array{Int,1}, 鍵::Int) -> 暗号文空間[i] = 平文空間[i] + 鍵\n",
    "    Enc(signs::Array{Int,1}, n::Int)::Array{Int,1} = signs .+= n\n",
    "\n",
    "    # 復号: f(平文空間::Array{Int,1}, 鍵::Int) -> 暗号文空間[i] = 平文空間[i] - 鍵\n",
    "    Dec(signs::Array{Int,1}, n::Int)::Array{Int,1} = signs .-= n\n",
    "end\n",
    "\n",
    "# 動作確認\n",
    "key = Shift.KeyGen() # 鍵 = ずらす値\n",
    "\n",
    "enc = Shift.Enc(encode(\"Hello, World!\"), key)\n",
    "println(enc) # 暗号文\n",
    "\n",
    "dec = Shift.Dec(enc, key) |> decode\n",
    "println(dec) # 平文"
   ]
  },
  {
   "cell_type": "markdown",
   "metadata": {},
   "source": [
    "## コード\n",
    "\n",
    "- 仲間内でしか通用しない合言葉を拡張したもの\n",
    "    - 合言葉の対応表をコードブックと呼ぶ\n",
    "- コードブックを作成するのに膨大な時間がかかる\n",
    "- コードブックは丸暗記に向いていないため、配送・携帯・管理に問題が生じる\n",
    "\n",
    "### コードのアルゴリズム\n",
    "- コードブックを参照し、特定のキーワードに一致した部分を合言葉に置換する\n",
    "    - 鍵生成: `KeyGen() -> コードブック::Array{Tuple{String,String},1}`\n",
    "        - コードブック: 2つの文字列（キーワード, 合言葉）のタプルを1次元配列で表現\n",
    "    - 暗号化: `Enc(平文空間::String, コードブック) -> 暗号文空間::String`\n",
    "        - 適用: `replace(平文空間::String, キーワード::String, 合言葉::String)`\n",
    "    - 復号: `Dec(暗号文空間::String, コードブック) -> 平文空間::String`\n",
    "        - 適用: `replace(暗号文空間::String, 合言葉::String, キーワード::String)`"
   ]
  },
  {
   "cell_type": "code",
   "execution_count": 11,
   "metadata": {},
   "outputs": [
    {
     "data": {
      "text/plain": [
       "Main.Code"
      ]
     },
     "execution_count": 11,
     "metadata": {},
     "output_type": "execute_result"
    }
   ],
   "source": [
    "# コード\n",
    "module Code\n",
    "\n",
    "## 鍵生成\n",
    "KeyGen()::Array{Tuple{AbstractString,AbstractString},1} = [\n",
    "    (\"apple\", \"バナナ\"), (\"Hello\", \"byebye\"), (\"world\", \"りんご\"),\n",
    "    (\"バナナ\", \"milky\"), (\"I'm\", \"!?!?@^^;\"), (\", \", \"hogeほげ!\"),\n",
    "    (\"1988\", \"_8891_@\"), (\"Boy\", \"ジュリア\"), (\"Girl\", \"womanma\"),\n",
    "]\n",
    "\n",
    "## 暗号化\n",
    "Enc(\n",
    "    text::AbstractString,\n",
    "    book::Array{Tuple{AbstractString,AbstractString},1}\n",
    ")::AbstractString = begin\n",
    "    for words in book\n",
    "        text = replace(text, words[1] => words[2])\n",
    "    end\n",
    "    text\n",
    "end\n",
    "\n",
    "## 復号\n",
    "Dec(\n",
    "    text::AbstractString,\n",
    "    book::Array{Tuple{AbstractString,AbstractString},1}\n",
    ")::AbstractString = begin\n",
    "    for words in book\n",
    "        text = replace(text, words[2] => words[1])\n",
    "    end\n",
    "    text\n",
    "end\n",
    "\n",
    "end"
   ]
  },
  {
   "cell_type": "code",
   "execution_count": 12,
   "metadata": {
    "scrolled": true
   },
   "outputs": [
    {
     "name": "stdout",
     "output_type": "stream",
     "text": [
      "byebyehogeほげ!りんご!\n",
      "!?!?@^^; milkymilky at _8891_@.\n",
      "ジュリアs and womanmas be ambisious!\n",
      "\n",
      "Hello, world!\n",
      "I'm バナナバナナ at 1988.\n",
      "Boys and Girls be ambisious!\n",
      "\n"
     ]
    }
   ],
   "source": [
    "# 動作確認\n",
    "text = \"\"\"\n",
    "Hello, world!\n",
    "I'm appleバナナ at 1988.\n",
    "Boys and Girls be ambisious!\n",
    "\"\"\"\n",
    "enc = Code.Enc(text, Code.KeyGen())\n",
    "println(enc) # 暗号文\n",
    "\n",
    "dec = Code.Dec(enc, Code.KeyGen())\n",
    "println(dec) # 平文"
   ]
  },
  {
   "cell_type": "markdown",
   "metadata": {},
   "source": [
    "## スキュタレー暗号\n",
    "\n",
    "- 暗号文が帯状のものに記述されるため秘密通信と相性が良い\n",
    "    - 例えば、ベルトにすることで隠して運搬することなどが可能\n",
    "- スキュタレー暗号を一般化すると転置式暗号に拡張できる\n",
    "- 仕組み:\n",
    "    1. 帯状の羊皮紙を特定の太さの筒に斜めに巻きつける\n",
    "    2. 筒に巻きつけた状態の帯に平文を書き込む\n",
    "    3. 余白は無意味な文字で埋める\n",
    "    4. 巻きつけた羊皮紙を解くと、無意味な文字列となっている\n",
    "        - 要するに縦読みの応用\n",
    "\n",
    "### スキュタレー暗号のアルゴリズム\n",
    "- 鍵生成: `KeyGen() -> 筒の直径::Int`\n",
    "    - 筒の直径は秘密にしておかなければならない\n",
    "- 暗号化: `Enc(平文::String, 筒の直径::Int) -> 暗号文::String`\n",
    "    1. 平文を筒の直径に合わせて分割\n",
    "        - `平文 / 筒の直径 -> Array{Array{Char,1},1}`\n",
    "    2. 分割した文字列配列の最後の文字列が筒の直径の長さに足りていない場合は、ランダムな文字列で埋める\n",
    "    3. 文字列配列の行列を転置する\n",
    "    4. 再び1つの文字列につなげる\n",
    "- 復号化: 暗号化の逆を行えば良い"
   ]
  },
  {
   "cell_type": "code",
   "execution_count": 13,
   "metadata": {},
   "outputs": [
    {
     "data": {
      "text/plain": [
       "3-element Array{Array{Any,1},1}:\n",
       " ['雨', '降', 'っ', 'て']                  \n",
       " ['地', '固', 'ま', 'る']                  \n",
       " ['ぞ', '\\Ua1e62', '\\U9340e', '\\U89450']"
      ]
     },
     "execution_count": 13,
     "metadata": {},
     "output_type": "execute_result"
    }
   ],
   "source": [
    "import Base: /\n",
    "\n",
    "# 標準関数 `/` に機能追加\n",
    "## 文字列を数値分の長さごとに分割 -> Array{Array{Char,1},1}\n",
    "/(str::AbstractString, n::Int) = begin\n",
    "    result = [[]]\n",
    "    cur = result[1]\n",
    "    for c in str\n",
    "        if length(cur) === n\n",
    "            cur = []\n",
    "            push!(result, cur)\n",
    "        end\n",
    "        push!(cur, c)\n",
    "    end\n",
    "    result\n",
    "end\n",
    "\n",
    "# 動作確認\n",
    "array = \"雨降って地固まるぞ\" / 4\n",
    "\n",
    "# 長さが足りない場合はランダムな文字で埋める\n",
    "if length(array[end]) < 4\n",
    "    array[end] = vcat(array[end], rand(Char, 4 - length(array[end])))\n",
    "end\n",
    "\n",
    "array"
   ]
  },
  {
   "cell_type": "code",
   "execution_count": 14,
   "metadata": {},
   "outputs": [
    {
     "data": {
      "text/plain": [
       "\"雨地ぞ降固\\Ua1e62っま\\U9340eてる\\U89450\""
      ]
     },
     "execution_count": 14,
     "metadata": {},
     "output_type": "execute_result"
    }
   ],
   "source": [
    "# 縦読みで文字列を再構築\n",
    "str = \"\"\n",
    "for i = 1:4\n",
    "    for row in array\n",
    "        str *= string(row[i])\n",
    "    end\n",
    "end\n",
    "str"
   ]
  },
  {
   "cell_type": "markdown",
   "metadata": {},
   "source": [
    "### スキュタレー暗号の効率化\n",
    "- 平文を文字列のまま扱うとUTF-8文字などの関係で行列への変換コストがかかる\n",
    "- また、permutedimsなどの行列操作関数を使うこともできず、非効率的\n",
    "- 符号空間に変換してから、スキュタレー暗号化することで効率的な処理が可能\n",
    "\n",
    "#### 符号化スキュタレー暗号のアルゴリズム\n",
    "- 暗号化: `Enc(平文空間::Array{Int,1}, 筒の直径::Int) -> 暗号文空間::Array{Int,1}`\n",
    "     1. 符号配列の長さが筒の直径で割り切れない場合は、足りない分をランダムなChar型整数で埋める\n",
    "     2. 符号配列を筒の直径に合わせて分割\n",
    "         - `平文 / 筒の直径 -> Array{Array{Int,1},1}`\n",
    "     3. 行列を転置する\n",
    "     4. 1次元配列にreshape\n",
    "- 復号: 暗号化の逆の手順で行う"
   ]
  },
  {
   "cell_type": "code",
   "execution_count": 15,
   "metadata": {},
   "outputs": [
    {
     "data": {
      "text/plain": [
       "2×5 Array{Int64,2}:\n",
       " 1  3  5  7   9\n",
       " 2  4  6  8  10"
      ]
     },
     "execution_count": 15,
     "metadata": {},
     "output_type": "execute_result"
    }
   ],
   "source": [
    "# テスト\n",
    "r = reshape([1,2,3,4,5,6,7,8,9,10], (2,:))"
   ]
  },
  {
   "cell_type": "code",
   "execution_count": 16,
   "metadata": {},
   "outputs": [
    {
     "data": {
      "text/plain": [
       "5×2 Array{Int64,2}:\n",
       " 1   2\n",
       " 3   4\n",
       " 5   6\n",
       " 7   8\n",
       " 9  10"
      ]
     },
     "execution_count": 16,
     "metadata": {},
     "output_type": "execute_result"
    }
   ],
   "source": [
    "t = permutedims(r, (2, 1)) # 行,列 -> 列,行 に転置"
   ]
  },
  {
   "cell_type": "code",
   "execution_count": 17,
   "metadata": {},
   "outputs": [
    {
     "data": {
      "text/plain": [
       "10-element Array{Int64,1}:\n",
       "  1\n",
       "  3\n",
       "  5\n",
       "  7\n",
       "  9\n",
       "  2\n",
       "  4\n",
       "  6\n",
       "  8\n",
       " 10"
      ]
     },
     "execution_count": 17,
     "metadata": {},
     "output_type": "execute_result"
    }
   ],
   "source": [
    "e = reshape(t, length(t))"
   ]
  },
  {
   "cell_type": "code",
   "execution_count": 18,
   "metadata": {},
   "outputs": [
    {
     "data": {
      "text/plain": [
       "10-element Array{Int64,1}:\n",
       "  1\n",
       "  2\n",
       "  3\n",
       "  4\n",
       "  5\n",
       "  6\n",
       "  7\n",
       "  8\n",
       "  9\n",
       " 10"
      ]
     },
     "execution_count": 18,
     "metadata": {},
     "output_type": "execute_result"
    }
   ],
   "source": [
    "# 元に戻す\n",
    "reshape(e, (:,2)) |> # 5x2行列に変換\n",
    "    (x) -> permutedims(x, (2, 1)) |> # 転置行列 2x5\n",
    "        (x) -> reshape(x, :) # 1次元配列に戻す"
   ]
  },
  {
   "cell_type": "code",
   "execution_count": 19,
   "metadata": {},
   "outputs": [
    {
     "data": {
      "text/plain": [
       "Main.Scutalay"
      ]
     },
     "execution_count": 19,
     "metadata": {},
     "output_type": "execute_result"
    }
   ],
   "source": [
    "# スキュタレー暗号\n",
    "module Scutalay\n",
    "\n",
    "## 鍵生成: 2〜10の乱数\n",
    "KeyGen()::Int = rand(2:10)\n",
    "\n",
    "## 暗号化\n",
    "Enc(signs::Array{Int,1}, r::Int)::Array{Int,1} = (\n",
    "        length(signs) % r > 0 ?\n",
    "        # 長さが足りない分を乱数で埋める\n",
    "        signs = vcat(signs, rand(Char, r - length(signs) % r)) : signs\n",
    "    ) |>\n",
    "    # r x ? 行列に変換\n",
    "    (x) -> reshape(x, (r, :)) |>\n",
    "    # ? x r 転置行列\n",
    "    (x) -> permutedims(x, (2, 1)) |>\n",
    "    # Array{Int,1}配列に戻す\n",
    "    (x) -> reshape(x, :)\n",
    "\n",
    "## 復号 -> 平文にして返す\n",
    "Dec(signs::Array{Int,1}, r::Int)::AbstractString = String([\n",
    "        Char(c) for c in (\n",
    "            reshape(signs, (:, r)) |>\n",
    "                (x) -> permutedims(x, (2, 1)) |>\n",
    "                (x) -> reshape(x, :)\n",
    "        )\n",
    "    ])\n",
    "\n",
    "end"
   ]
  },
  {
   "cell_type": "code",
   "execution_count": 20,
   "metadata": {},
   "outputs": [
    {
     "name": "stdout",
     "output_type": "stream",
     "text": [
      "[72, 101, 108, 108, 111, 44, 32, 119, 111, 114, 108, 100, 33, 10, 73, 39, 109, 32, 97, 112, 112, 108, 101, 12496, 12490, 12490, 32, 97, 116, 32, 49, 57, 56, 56, 46, 10, 66, 111, 121, 115, 32, 97, 110, 100, 32, 71, 105, 114, 108, 115, 32, 98, 101, 32, 97, 109, 98, 105, 115, 105, 111, 117, 115, 33, 10]\n",
      "[72, 108, 32, 114, 33, 39, 97, 108, 12490, 97, 49, 56, 66, 115, 110, 71, 108, 98, 97, 105, 111, 33, 101, 111, 119, 108, 10, 109, 112, 101, 12490, 116, 57, 46, 111, 32, 100, 105, 115, 101, 109, 115, 117, 10, 108, 44, 111, 100, 73, 32, 112, 12496, 32, 32, 56, 10, 121, 97, 32, 114, 32, 32, 98, 105, 115, 434336]\n",
      "Hello, world!\n",
      "I'm appleバナナ at 1988.\n",
      "Boys and Girls be ambisious!\n",
      "񪂠\n"
     ]
    }
   ],
   "source": [
    "# 動作確認\n",
    "\n",
    "r = Scutalay.KeyGen() # 秘密にしなければならない筒の直径\n",
    "\n",
    "# 平文\n",
    "text = \"\"\"\n",
    "Hello, world!\n",
    "I'm appleバナナ at 1988.\n",
    "Boys and Girls be ambisious!\n",
    "\"\"\"\n",
    "\n",
    "signs = encode(text)\n",
    "println(signs) # 符号\n",
    "\n",
    "enc = Scutalay.Enc(encode(text), r)\n",
    "println(enc) # 暗号文\n",
    "\n",
    "dec = Scutalay.Dec(enc, r)\n",
    "println(dec) # 平文"
   ]
  },
  {
   "cell_type": "markdown",
   "metadata": {},
   "source": [
    "## 転置式暗号\n",
    "\n",
    "- アナグラムの応用的な暗号化方式\n",
    "- 従来の暗号の鍵は数十通りだったが、転置式暗号の鍵は数百通りになる\n",
    "- 現代暗号でも利用されている\n",
    "- 仕組み:\n",
    "    - 基本的には、スキュタレー暗号の「行列転置」部分を「特定のルールに従って転置する」という方式に一般化したもの\n",
    "        1. 平文を適当な数で分割する\n",
    "        2. 分割した文字列の行列に対して転置関数（文字入れ替えのルール）を適用する\n",
    "        3. 分割した文字列を結合して暗号文とする\n",
    "\n",
    "### 転置式暗号のアルゴリズム\n",
    "スキュタレー暗号同様、符号の集合を平文空間として扱ったほうが効率が良いため、符号化してアルゴリズムを適用する\n",
    "\n",
    "1. 鍵生成:\n",
    "    - `KeyGen() -> n = 分割文字数::Int, τ = 置換規則::Function`\n",
    "    - 置換規則: `τ(Array{Int,2}) -> Array{Int,2}`\n",
    "        - 平文空間が分割された2次元配列（行列）を転置する関数\n",
    "2. 暗号化:\n",
    "    - `Enc(平文空間::Array{Int,1}, n::Int, τ::Function) -> 暗号文空間::Array{Int,1}`\n",
    "        1. 平文空間分割: `平文空間 / n -> 平文行列::Array{Int,2}`\n",
    "        2. 置換規則適用: `τ(平文行列) -> 暗号文行列::Array{Int,2}`\n",
    "        3. 暗号文空間化: `reshape(暗号文行列, :) -> 暗号文空間::Array{Int,2}`\n",
    "3. 復号:\n",
    "    - `Dec(暗号文空間::Array{Int,1}, n::Int, τ^-1::Function) -> 平文空間::Array{Int,1}`\n",
    "        - τ^-1: 置換規則の逆操作\n",
    "\n",
    "#### 鍵の決め方\n",
    "- 暗号の仕様を決定する段階では平文の長さはわからない\n",
    "    - -> 平分の長さに応じて暗号の仕様を決定するのは不可能\n",
    "- 仕様決定の際には、分割文字数と平分の文字数の関係によって、以下のような結果に成ることを考慮する必要がある\n",
    "    1. 「分割文字数 = 平文文字数」の場合\n",
    "        - 平文をシャッフルした状況と同等\n",
    "    2. 「分割文字数 > 平文文字数」の場合\n",
    "        - 平文にパディングして文字数を分割文字数と一致させるなどの工夫が必要になる\n",
    "        - ただし、パディングに使用した文字が自明であると置換規則解読のヒントになってしまう\n",
    "    3. 「分割文字数 < 平文文字数」の場合\n",
    "        - 分割文字数が平文より極端に小さいと暗号化強度が脆弱になる\n",
    "        - 極端な話、分割文字数が1だと暗号化は行われない\n",
    "\n",
    "### 転置式暗号の鍵数\n",
    "- 分割文字数を4とした場合、置換規則の総数は次のように計算できる\n",
    "    - `置換規則の総数 = 4! = 4 * 3 * 2 * 1 = 24`\n",
    "- 解読者が分割文字数を6以下であると推測した場合、n = 2, 3, ..., 6 を総当りで計算することになるため、探索する置換規則の候補数は次のようになる\n",
    "    - `置換規則の総数 = 2! + 3! + 4! + 5! + 6! = 872`\n",
    "- このように、転置式暗号の鍵の候補は、これまでの古典暗号に比べて格段に多く、総当り解読に対して高い強度を持っている"
   ]
  },
  {
   "cell_type": "markdown",
   "metadata": {},
   "source": [
    "## 単一換字式暗号\n",
    "\n",
    "- 単一換字式暗号の鍵の総数は膨大であるため、単純な総当り攻撃に対しては高い暗号強度を持つ\n",
    "- 単一換字式暗号を解読する場合は、頻度分析という解読手法が使われる\n",
    "- 文字の換字（置き換え）という考え方は、現代暗号でも利用される\n",
    "\n",
    "### 換字式暗号の仕組み\n",
    "- 平文の文字を別の文字や記号に対応させる暗号のことを換字式暗号と呼ぶ\n",
    "- 特に平文と暗号文の1文字が1対1で対応しているものを単一換字式暗号と呼ぶ\n",
    "    - シーザー暗号やシフト暗号も単一換字式暗号の一種\n",
    "- ある文字を別の文字に変換するルールを変換規則σで表す\n",
    "    - `σ(平文文字::Char) -> 暗号文文字::Char`\n",
    "\n",
    "### 単一換字式暗号のアルゴリズム\n",
    "- 鍵生成: `KeyGen() -> σ::Function`\n",
    "    - 変換規則: `σ(平文文字::Char) -> 暗号文文字::Char`\n",
    "- 暗号化: `Enc(平文空間::String, σ::Function) -> 暗号文空間::String`\n",
    "    - 平文空間の各文字（元）に対して変換規則σを適用\n",
    "- 復号: `Dec(暗号文空間::String, σ^-1::Function) -> 平文空間::String`\n",
    "    - σ^-1: 変換規則の逆操作\n",
    "\n",
    "### 単一換字式暗号の鍵数\n",
    "- アルファベット26文字の変換規則パターン（鍵）の総数は以下の通り\n",
    "    - `変換規則の総数 = 26! ≒ 4.0×10^26`\n",
    "- これは極めて巨大な数であり、総当たりによる鍵の探索はほぼ不可能である"
   ]
  },
  {
   "cell_type": "code",
   "execution_count": 21,
   "metadata": {},
   "outputs": [
    {
     "data": {
      "text/plain": [
       "Main.CharReplacer"
      ]
     },
     "execution_count": 21,
     "metadata": {},
     "output_type": "execute_result"
    }
   ],
   "source": [
    "# 単一換字式暗号\n",
    "module CharReplacer\n",
    "\n",
    "## 鍵生成: 変換規則 σ(Char)->Char を生成\n",
    "### 変換規則:\n",
    "### - 文字コードが偶数 => 右に9ずらす\n",
    "### - 文字コードが奇数 => 左に9ずらす\n",
    "KeyGen() = (c::Char) -> begin\n",
    "    c = Int(c)\n",
    "    c % 2 == 0 && return Char(c + 9)\n",
    "    return Char(c - 9)\n",
    "end\n",
    "\n",
    "## 暗号化: 平文空間に鍵（変換規則）を適用\n",
    "Enc(text::AbstractString, σ)::AbstractString = String([σ(c) for c in text])\n",
    "\n",
    "## 復号: 平文空間に鍵（変換規則の逆操作）を適用\n",
    "### 今回の場合、変換規則の逆操作 = 変換規則\n",
    "Dec(text::AbstractString, σ)::AbstractString = String([σ(c) for c in text])\n",
    "\n",
    "end"
   ]
  },
  {
   "cell_type": "code",
   "execution_count": 22,
   "metadata": {},
   "outputs": [
    {
     "name": "stdout",
     "output_type": "stream",
     "text": [
      "Q\\uuf5)Nf{um\u0018\n",
      "Hello, World!\n"
     ]
    }
   ],
   "source": [
    "# 動作確認\n",
    "key = CharReplacer.KeyGen() # 鍵 = 変換関数\n",
    "\n",
    "enc = CharReplacer.Enc(\"Hello, World!\", key)\n",
    "println(enc) # 暗号文\n",
    "\n",
    "dec = CharReplacer.Dec(enc, key)\n",
    "println(dec) # 平文"
   ]
  },
  {
   "cell_type": "code",
   "execution_count": null,
   "metadata": {},
   "outputs": [],
   "source": []
  }
 ],
 "metadata": {
  "kernelspec": {
   "display_name": "Julia 1.1.1",
   "language": "julia",
   "name": "julia-1.1"
  },
  "language_info": {
   "file_extension": ".jl",
   "mimetype": "application/julia",
   "name": "julia",
   "version": "1.1.1"
  }
 },
 "nbformat": 4,
 "nbformat_minor": 2
}
